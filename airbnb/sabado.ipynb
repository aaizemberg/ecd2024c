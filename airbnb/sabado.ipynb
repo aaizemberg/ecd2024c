{
 "cells": [
  {
   "cell_type": "code",
   "execution_count": 2,
   "id": "9c733cf3",
   "metadata": {},
   "outputs": [],
   "source": [
    "import pandas as pd"
   ]
  },
  {
   "cell_type": "code",
   "execution_count": 3,
   "id": "07ac2fba",
   "metadata": {},
   "outputs": [
    {
     "name": "stdout",
     "output_type": "stream",
     "text": [
      "<class 'pandas.core.frame.DataFrame'>\n",
      "RangeIndex: 35172 entries, 0 to 35171\n",
      "Data columns (total 18 columns):\n",
      " #   Column                          Non-Null Count  Dtype  \n",
      "---  ------                          --------------  -----  \n",
      " 0   id                              35172 non-null  int64  \n",
      " 1   name                            35172 non-null  object \n",
      " 2   host_id                         35172 non-null  int64  \n",
      " 3   host_name                       35166 non-null  object \n",
      " 4   neighbourhood_group             0 non-null      float64\n",
      " 5   neighbourhood                   35172 non-null  object \n",
      " 6   latitude                        35172 non-null  float64\n",
      " 7   longitude                       35172 non-null  float64\n",
      " 8   room_type                       35172 non-null  object \n",
      " 9   price                           31598 non-null  float64\n",
      " 10  minimum_nights                  35172 non-null  int64  \n",
      " 11  number_of_reviews               35172 non-null  int64  \n",
      " 12  last_review                     29412 non-null  object \n",
      " 13  reviews_per_month               29412 non-null  float64\n",
      " 14  calculated_host_listings_count  35172 non-null  int64  \n",
      " 15  availability_365                35172 non-null  int64  \n",
      " 16  number_of_reviews_ltm           35172 non-null  int64  \n",
      " 17  license                         390 non-null    object \n",
      "dtypes: float64(5), int64(7), object(6)\n",
      "memory usage: 4.8+ MB\n"
     ]
    }
   ],
   "source": [
    "# Buenos Aires / listings.csv\t/ Summary information and metrics for listings in Buenos Aires (good for visualisations).\n",
    "url = \"https://data.insideairbnb.com/argentina/ciudad-aut%C3%B3noma-de-buenos-aires/buenos-aires/2025-01-29/visualisations/listings.csv\"\n",
    "df = pd.read_csv(url)\n",
    "df.info()"
   ]
  },
  {
   "cell_type": "code",
   "execution_count": 4,
   "id": "f3dfec38",
   "metadata": {},
   "outputs": [
    {
     "data": {
      "application/vnd.microsoft.datawrangler.viewer.v0+json": {
       "columns": [
        {
         "name": "license",
         "rawType": "object",
         "type": "string"
        },
        {
         "name": "count",
         "rawType": "int64",
         "type": "integer"
        }
       ],
       "ref": "b33cef0d-378d-496a-a0d9-508f354fd067",
       "rows": [
        [
         "RL-2021-14800886",
         "8"
        ],
        [
         "RL-2021-19501767-DGDTU",
         "7"
        ],
        [
         "RL-2021-11788655",
         "3"
        ],
        [
         "123456",
         "3"
        ],
        [
         "483833368",
         "2"
        ],
        [
         "En trámite",
         "2"
        ],
        [
         "RL-2024-16124538-GCABA-DGDTU",
         "2"
        ],
        [
         "1234",
         "2"
        ],
        [
         "EX-2021-07306061-GCABA-DGTALET",
         "2"
        ],
        [
         "ISIB 0766220-03",
         "2"
        ],
        [
         "0",
         "2"
        ],
        [
         "ENTU0108A",
         "2"
        ],
        [
         "RL-2021-39033027-DGDTU",
         "1"
        ],
        [
         "RL-2021-15676669- -DGDTU",
         "1"
        ],
        [
         "5491162032168",
         "1"
        ],
        [
         "RL-2022-30852692-GCABA-DGDTU",
         "1"
        ],
        [
         "20294333070",
         "1"
        ],
        [
         "37479701",
         "1"
        ],
        [
         "+541150625600",
         "1"
        ],
        [
         "1134293048",
         "1"
        ],
        [
         "±54 91150180092",
         "1"
        ],
        [
         "20319150049",
         "1"
        ],
        [
         "1164844730",
         "1"
        ],
        [
         "+5791151060954",
         "1"
        ],
        [
         "549 113-119-2105",
         "1"
        ],
        [
         "32087543",
         "1"
        ],
        [
         "48112432",
         "1"
        ],
        [
         "33556899",
         "1"
        ],
        [
         "4862",
         "1"
        ],
        [
         "310354",
         "1"
        ],
        [
         "21363049",
         "1"
        ],
        [
         "+54911",
         "1"
        ],
        [
         "1180",
         "1"
        ],
        [
         "35359653",
         "1"
        ],
        [
         "1131408961",
         "1"
        ],
        [
         "Novogar SA  CUIT: 30-70990615-8",
         "1"
        ],
        [
         "1130352454",
         "1"
        ],
        [
         "Elisa e yazdi",
         "1"
        ],
        [
         "27691023",
         "1"
        ],
        [
         "+541162669019",
         "1"
        ],
        [
         "RL-2021-35675022",
         "1"
        ],
        [
         "87654321",
         "1"
        ],
        [
         "11 2686-6898",
         "1"
        ],
        [
         "33717212199",
         "1"
        ],
        [
         "20265838910",
         "1"
        ],
        [
         "005491131979003",
         "1"
        ],
        [
         "487997",
         "1"
        ],
        [
         "+541132038000",
         "1"
        ],
        [
         "374222",
         "1"
        ],
        [
         "29732032",
         "1"
        ]
       ],
       "shape": {
        "columns": 1,
        "rows": 365
       }
      },
      "text/plain": [
       "license\n",
       "RL-2021-14800886          8\n",
       "RL-2021-19501767-DGDTU    7\n",
       "RL-2021-11788655          3\n",
       "123456                    3\n",
       "483833368                 2\n",
       "                         ..\n",
       "1499                      1\n",
       "morita0702                1\n",
       "27183112789               1\n",
       "1168077706                1\n",
       "55228282                  1\n",
       "Name: count, Length: 365, dtype: int64"
      ]
     },
     "execution_count": 4,
     "metadata": {},
     "output_type": "execute_result"
    }
   ],
   "source": [
    "license_counts = df[\"license\"].value_counts()\n",
    "license_counts   "
   ]
  },
  {
   "cell_type": "code",
   "execution_count": 5,
   "id": "72afbd07",
   "metadata": {},
   "outputs": [],
   "source": [
    "# Elimino las columnas que no voy a a usar\n",
    "df.drop(columns=['neighbourhood_group','license'], inplace=True)"
   ]
  },
  {
   "cell_type": "code",
   "execution_count": 6,
   "id": "6609b77b",
   "metadata": {},
   "outputs": [
    {
     "data": {
      "text/plain": [
       "(35172, 16)"
      ]
     },
     "execution_count": 6,
     "metadata": {},
     "output_type": "execute_result"
    }
   ],
   "source": [
    "df.shape"
   ]
  },
  {
   "cell_type": "code",
   "execution_count": 7,
   "id": "48173953",
   "metadata": {},
   "outputs": [
    {
     "name": "stdout",
     "output_type": "stream",
     "text": [
      "<class 'pandas.core.frame.DataFrame'>\n",
      "RangeIndex: 35172 entries, 0 to 35171\n",
      "Data columns (total 16 columns):\n",
      " #   Column                          Non-Null Count  Dtype  \n",
      "---  ------                          --------------  -----  \n",
      " 0   id                              35172 non-null  int64  \n",
      " 1   name                            35172 non-null  object \n",
      " 2   host_id                         35172 non-null  int64  \n",
      " 3   host_name                       35166 non-null  object \n",
      " 4   neighbourhood                   35172 non-null  object \n",
      " 5   latitude                        35172 non-null  float64\n",
      " 6   longitude                       35172 non-null  float64\n",
      " 7   room_type                       35172 non-null  object \n",
      " 8   price                           31598 non-null  float64\n",
      " 9   minimum_nights                  35172 non-null  int64  \n",
      " 10  number_of_reviews               35172 non-null  int64  \n",
      " 11  last_review                     29412 non-null  object \n",
      " 12  reviews_per_month               29412 non-null  float64\n",
      " 13  calculated_host_listings_count  35172 non-null  int64  \n",
      " 14  availability_365                35172 non-null  int64  \n",
      " 15  number_of_reviews_ltm           35172 non-null  int64  \n",
      "dtypes: float64(4), int64(7), object(5)\n",
      "memory usage: 4.3+ MB\n"
     ]
    }
   ],
   "source": [
    "df.info()"
   ]
  },
  {
   "cell_type": "code",
   "execution_count": 8,
   "id": "254fc692",
   "metadata": {},
   "outputs": [
    {
     "data": {
      "application/vnd.microsoft.datawrangler.viewer.v0+json": {
       "columns": [
        {
         "name": "index",
         "rawType": "object",
         "type": "string"
        },
        {
         "name": "id",
         "rawType": "float64",
         "type": "float"
        },
        {
         "name": "host_id",
         "rawType": "float64",
         "type": "float"
        },
        {
         "name": "latitude",
         "rawType": "float64",
         "type": "float"
        },
        {
         "name": "longitude",
         "rawType": "float64",
         "type": "float"
        },
        {
         "name": "price",
         "rawType": "float64",
         "type": "float"
        },
        {
         "name": "minimum_nights",
         "rawType": "float64",
         "type": "float"
        },
        {
         "name": "number_of_reviews",
         "rawType": "float64",
         "type": "float"
        },
        {
         "name": "reviews_per_month",
         "rawType": "float64",
         "type": "float"
        },
        {
         "name": "calculated_host_listings_count",
         "rawType": "float64",
         "type": "float"
        },
        {
         "name": "availability_365",
         "rawType": "float64",
         "type": "float"
        },
        {
         "name": "number_of_reviews_ltm",
         "rawType": "float64",
         "type": "float"
        }
       ],
       "ref": "3a0e2909-1fe9-45d0-8169-86544c101997",
       "rows": [
        [
         "count",
         "35172.0",
         "35172.0",
         "35172.0",
         "35172.0",
         "31598.0",
         "35172.0",
         "35172.0",
         "29412.0",
         "35172.0",
         "35172.0",
         "35172.0"
        ],
        [
         "mean",
         "7.117880397232908e+17",
         "214329444.13482314",
         "-34.59155356723892",
         "-58.417289214591726",
         "95487.76489018292",
         "6.159871488684181",
         "28.0275787558285",
         "1.325920032639739",
         "15.646878198567041",
         "206.60931991356762",
         "9.500625497554873"
        ],
        [
         "std",
         "4.8409742376524e+17",
         "202741986.92236915",
         "0.018256929350904984",
         "0.03016858875076814",
         "1402656.4166615438",
         "26.072001904171923",
         "45.1516657434848",
         "1.3364455834750453",
         "34.108687785467595",
         "126.1891022863665",
         "13.991379233311662"
        ],
        [
         "min",
         "11508.0",
         "13426.0",
         "-34.6937",
         "-58.53089",
         "260.0",
         "1.0",
         "0.0",
         "0.01",
         "1.0",
         "0.0",
         "0.0"
        ],
        [
         "25%",
         "47197755.75",
         "30700159.0",
         "-34.60267",
         "-58.437050201540885",
         "29711.0",
         "1.0",
         "2.0",
         "0.36",
         "1.0",
         "88.0",
         "0.0"
        ],
        [
         "50%",
         "8.875662286255574e+17",
         "142100393.0",
         "-34.59089",
         "-58.41891425",
         "39908.0",
         "2.0",
         "11.0",
         "0.93",
         "2.0",
         "231.0",
         "4.0"
        ],
        [
         "75%",
         "1.0952057008038866e+18",
         "429802394.0",
         "-34.5810475",
         "-58.39211371525669",
         "57762.0",
         "4.0",
         "36.0",
         "1.91",
         "12.0",
         "333.0",
         "13.0"
        ],
        [
         "max",
         "1.3443300900948856e+18",
         "675491725.0",
         "-34.53498",
         "-58.35540270049948",
         "105021704.0",
         "1000.0",
         "992.0",
         "26.08",
         "222.0",
         "365.0",
         "340.0"
        ]
       ],
       "shape": {
        "columns": 11,
        "rows": 8
       }
      },
      "text/html": [
       "<div>\n",
       "<style scoped>\n",
       "    .dataframe tbody tr th:only-of-type {\n",
       "        vertical-align: middle;\n",
       "    }\n",
       "\n",
       "    .dataframe tbody tr th {\n",
       "        vertical-align: top;\n",
       "    }\n",
       "\n",
       "    .dataframe thead th {\n",
       "        text-align: right;\n",
       "    }\n",
       "</style>\n",
       "<table border=\"1\" class=\"dataframe\">\n",
       "  <thead>\n",
       "    <tr style=\"text-align: right;\">\n",
       "      <th></th>\n",
       "      <th>id</th>\n",
       "      <th>host_id</th>\n",
       "      <th>latitude</th>\n",
       "      <th>longitude</th>\n",
       "      <th>price</th>\n",
       "      <th>minimum_nights</th>\n",
       "      <th>number_of_reviews</th>\n",
       "      <th>reviews_per_month</th>\n",
       "      <th>calculated_host_listings_count</th>\n",
       "      <th>availability_365</th>\n",
       "      <th>number_of_reviews_ltm</th>\n",
       "    </tr>\n",
       "  </thead>\n",
       "  <tbody>\n",
       "    <tr>\n",
       "      <th>count</th>\n",
       "      <td>3.517200e+04</td>\n",
       "      <td>3.517200e+04</td>\n",
       "      <td>35172.000000</td>\n",
       "      <td>35172.000000</td>\n",
       "      <td>3.159800e+04</td>\n",
       "      <td>35172.000000</td>\n",
       "      <td>35172.000000</td>\n",
       "      <td>29412.000000</td>\n",
       "      <td>35172.000000</td>\n",
       "      <td>35172.000000</td>\n",
       "      <td>35172.000000</td>\n",
       "    </tr>\n",
       "    <tr>\n",
       "      <th>mean</th>\n",
       "      <td>7.117880e+17</td>\n",
       "      <td>2.143294e+08</td>\n",
       "      <td>-34.591554</td>\n",
       "      <td>-58.417289</td>\n",
       "      <td>9.548776e+04</td>\n",
       "      <td>6.159871</td>\n",
       "      <td>28.027579</td>\n",
       "      <td>1.325920</td>\n",
       "      <td>15.646878</td>\n",
       "      <td>206.609320</td>\n",
       "      <td>9.500625</td>\n",
       "    </tr>\n",
       "    <tr>\n",
       "      <th>std</th>\n",
       "      <td>4.840974e+17</td>\n",
       "      <td>2.027420e+08</td>\n",
       "      <td>0.018257</td>\n",
       "      <td>0.030169</td>\n",
       "      <td>1.402656e+06</td>\n",
       "      <td>26.072002</td>\n",
       "      <td>45.151666</td>\n",
       "      <td>1.336446</td>\n",
       "      <td>34.108688</td>\n",
       "      <td>126.189102</td>\n",
       "      <td>13.991379</td>\n",
       "    </tr>\n",
       "    <tr>\n",
       "      <th>min</th>\n",
       "      <td>1.150800e+04</td>\n",
       "      <td>1.342600e+04</td>\n",
       "      <td>-34.693700</td>\n",
       "      <td>-58.530890</td>\n",
       "      <td>2.600000e+02</td>\n",
       "      <td>1.000000</td>\n",
       "      <td>0.000000</td>\n",
       "      <td>0.010000</td>\n",
       "      <td>1.000000</td>\n",
       "      <td>0.000000</td>\n",
       "      <td>0.000000</td>\n",
       "    </tr>\n",
       "    <tr>\n",
       "      <th>25%</th>\n",
       "      <td>4.719776e+07</td>\n",
       "      <td>3.070016e+07</td>\n",
       "      <td>-34.602670</td>\n",
       "      <td>-58.437050</td>\n",
       "      <td>2.971100e+04</td>\n",
       "      <td>1.000000</td>\n",
       "      <td>2.000000</td>\n",
       "      <td>0.360000</td>\n",
       "      <td>1.000000</td>\n",
       "      <td>88.000000</td>\n",
       "      <td>0.000000</td>\n",
       "    </tr>\n",
       "    <tr>\n",
       "      <th>50%</th>\n",
       "      <td>8.875662e+17</td>\n",
       "      <td>1.421004e+08</td>\n",
       "      <td>-34.590890</td>\n",
       "      <td>-58.418914</td>\n",
       "      <td>3.990800e+04</td>\n",
       "      <td>2.000000</td>\n",
       "      <td>11.000000</td>\n",
       "      <td>0.930000</td>\n",
       "      <td>2.000000</td>\n",
       "      <td>231.000000</td>\n",
       "      <td>4.000000</td>\n",
       "    </tr>\n",
       "    <tr>\n",
       "      <th>75%</th>\n",
       "      <td>1.095206e+18</td>\n",
       "      <td>4.298024e+08</td>\n",
       "      <td>-34.581047</td>\n",
       "      <td>-58.392114</td>\n",
       "      <td>5.776200e+04</td>\n",
       "      <td>4.000000</td>\n",
       "      <td>36.000000</td>\n",
       "      <td>1.910000</td>\n",
       "      <td>12.000000</td>\n",
       "      <td>333.000000</td>\n",
       "      <td>13.000000</td>\n",
       "    </tr>\n",
       "    <tr>\n",
       "      <th>max</th>\n",
       "      <td>1.344330e+18</td>\n",
       "      <td>6.754917e+08</td>\n",
       "      <td>-34.534980</td>\n",
       "      <td>-58.355403</td>\n",
       "      <td>1.050217e+08</td>\n",
       "      <td>1000.000000</td>\n",
       "      <td>992.000000</td>\n",
       "      <td>26.080000</td>\n",
       "      <td>222.000000</td>\n",
       "      <td>365.000000</td>\n",
       "      <td>340.000000</td>\n",
       "    </tr>\n",
       "  </tbody>\n",
       "</table>\n",
       "</div>"
      ],
      "text/plain": [
       "                 id       host_id      latitude     longitude         price  \\\n",
       "count  3.517200e+04  3.517200e+04  35172.000000  35172.000000  3.159800e+04   \n",
       "mean   7.117880e+17  2.143294e+08    -34.591554    -58.417289  9.548776e+04   \n",
       "std    4.840974e+17  2.027420e+08      0.018257      0.030169  1.402656e+06   \n",
       "min    1.150800e+04  1.342600e+04    -34.693700    -58.530890  2.600000e+02   \n",
       "25%    4.719776e+07  3.070016e+07    -34.602670    -58.437050  2.971100e+04   \n",
       "50%    8.875662e+17  1.421004e+08    -34.590890    -58.418914  3.990800e+04   \n",
       "75%    1.095206e+18  4.298024e+08    -34.581047    -58.392114  5.776200e+04   \n",
       "max    1.344330e+18  6.754917e+08    -34.534980    -58.355403  1.050217e+08   \n",
       "\n",
       "       minimum_nights  number_of_reviews  reviews_per_month  \\\n",
       "count    35172.000000       35172.000000       29412.000000   \n",
       "mean         6.159871          28.027579           1.325920   \n",
       "std         26.072002          45.151666           1.336446   \n",
       "min          1.000000           0.000000           0.010000   \n",
       "25%          1.000000           2.000000           0.360000   \n",
       "50%          2.000000          11.000000           0.930000   \n",
       "75%          4.000000          36.000000           1.910000   \n",
       "max       1000.000000         992.000000          26.080000   \n",
       "\n",
       "       calculated_host_listings_count  availability_365  number_of_reviews_ltm  \n",
       "count                    35172.000000      35172.000000           35172.000000  \n",
       "mean                        15.646878        206.609320               9.500625  \n",
       "std                         34.108688        126.189102              13.991379  \n",
       "min                          1.000000          0.000000               0.000000  \n",
       "25%                          1.000000         88.000000               0.000000  \n",
       "50%                          2.000000        231.000000               4.000000  \n",
       "75%                         12.000000        333.000000              13.000000  \n",
       "max                        222.000000        365.000000             340.000000  "
      ]
     },
     "execution_count": 8,
     "metadata": {},
     "output_type": "execute_result"
    }
   ],
   "source": [
    "df.describe()"
   ]
  },
  {
   "cell_type": "code",
   "execution_count": 9,
   "id": "8b2ba75e",
   "metadata": {},
   "outputs": [
    {
     "data": {
      "application/vnd.microsoft.datawrangler.viewer.v0+json": {
       "columns": [
        {
         "name": "room_type",
         "rawType": "object",
         "type": "string"
        },
        {
         "name": "count",
         "rawType": "int64",
         "type": "integer"
        }
       ],
       "ref": "165cc827-c568-4f54-8425-bc32a526c35a",
       "rows": [
        [
         "Entire home/apt",
         "32083"
        ],
        [
         "Private room",
         "2910"
        ],
        [
         "Shared room",
         "118"
        ],
        [
         "Hotel room",
         "61"
        ]
       ],
       "shape": {
        "columns": 1,
        "rows": 4
       }
      },
      "text/plain": [
       "room_type\n",
       "Entire home/apt    32083\n",
       "Private room        2910\n",
       "Shared room          118\n",
       "Hotel room            61\n",
       "Name: count, dtype: int64"
      ]
     },
     "execution_count": 9,
     "metadata": {},
     "output_type": "execute_result"
    }
   ],
   "source": [
    "# ver los otros atriubutos\n",
    "room_type_counts = df[\"room_type\"].value_counts()\n",
    "room_type_counts"
   ]
  },
  {
   "cell_type": "code",
   "execution_count": 10,
   "id": "39fb5d57",
   "metadata": {},
   "outputs": [
    {
     "data": {
      "application/vnd.microsoft.datawrangler.viewer.v0+json": {
       "columns": [
        {
         "name": "neighbourhood",
         "rawType": "object",
         "type": "string"
        },
        {
         "name": "count",
         "rawType": "int64",
         "type": "integer"
        }
       ],
       "ref": "d8e57afa-383f-4711-bd6e-255edd3f8e6d",
       "rows": [
        [
         "Palermo",
         "11410"
        ],
        [
         "Recoleta",
         "5105"
        ],
        [
         "San Nicolas",
         "2363"
        ],
        [
         "Belgrano",
         "1832"
        ],
        [
         "Retiro",
         "1667"
        ],
        [
         "Monserrat",
         "1646"
        ],
        [
         "Almagro",
         "1312"
        ],
        [
         "Balvanera",
         "1279"
        ],
        [
         "Villa Crespo",
         "1200"
        ],
        [
         "San Telmo",
         "988"
        ],
        [
         "Colegiales",
         "805"
        ],
        [
         "Nuñez",
         "711"
        ],
        [
         "Caballito",
         "676"
        ],
        [
         "Chacarita",
         "603"
        ],
        [
         "Constitucion",
         "454"
        ],
        [
         "Villa Urquiza",
         "415"
        ],
        [
         "Puerto Madero",
         "408"
        ],
        [
         "Barracas",
         "263"
        ],
        [
         "Saavedra",
         "246"
        ],
        [
         "San Cristobal",
         "204"
        ],
        [
         "Flores",
         "162"
        ],
        [
         "Boca",
         "128"
        ],
        [
         "Villa Ortuzar",
         "125"
        ],
        [
         "Coghlan",
         "122"
        ],
        [
         "Villa Del Parque",
         "119"
        ],
        [
         "Boedo",
         "119"
        ],
        [
         "Villa Devoto",
         "112"
        ],
        [
         "Parque Patricios",
         "95"
        ],
        [
         "Parque Chacabuco",
         "79"
        ],
        [
         "Parque Chas",
         "66"
        ],
        [
         "Villa Pueyrredon",
         "61"
        ],
        [
         "Paternal",
         "53"
        ],
        [
         "Floresta",
         "43"
        ],
        [
         "Villa Luro",
         "38"
        ],
        [
         "Agronomia",
         "36"
        ],
        [
         "Villa Gral. Mitre",
         "35"
        ],
        [
         "Villa Santa Rita",
         "34"
        ],
        [
         "Mataderos",
         "31"
        ],
        [
         "Liniers",
         "30"
        ],
        [
         "Parque Avellaneda",
         "24"
        ],
        [
         "Velez Sarsfield",
         "22"
        ],
        [
         "Monte Castro",
         "16"
        ],
        [
         "Nueva Pompeya",
         "11"
        ],
        [
         "Versalles",
         "8"
        ],
        [
         "Villa Real",
         "6"
        ],
        [
         "Villa Lugano",
         "5"
        ],
        [
         "Villa Riachuelo",
         "3"
        ],
        [
         "Villa Soldati",
         "2"
        ]
       ],
       "shape": {
        "columns": 1,
        "rows": 48
       }
      },
      "text/plain": [
       "neighbourhood\n",
       "Palermo              11410\n",
       "Recoleta              5105\n",
       "San Nicolas           2363\n",
       "Belgrano              1832\n",
       "Retiro                1667\n",
       "Monserrat             1646\n",
       "Almagro               1312\n",
       "Balvanera             1279\n",
       "Villa Crespo          1200\n",
       "San Telmo              988\n",
       "Colegiales             805\n",
       "Nuñez                  711\n",
       "Caballito              676\n",
       "Chacarita              603\n",
       "Constitucion           454\n",
       "Villa Urquiza          415\n",
       "Puerto Madero          408\n",
       "Barracas               263\n",
       "Saavedra               246\n",
       "San Cristobal          204\n",
       "Flores                 162\n",
       "Boca                   128\n",
       "Villa Ortuzar          125\n",
       "Coghlan                122\n",
       "Villa Del Parque       119\n",
       "Boedo                  119\n",
       "Villa Devoto           112\n",
       "Parque Patricios        95\n",
       "Parque Chacabuco        79\n",
       "Parque Chas             66\n",
       "Villa Pueyrredon        61\n",
       "Paternal                53\n",
       "Floresta                43\n",
       "Villa Luro              38\n",
       "Agronomia               36\n",
       "Villa Gral. Mitre       35\n",
       "Villa Santa Rita        34\n",
       "Mataderos               31\n",
       "Liniers                 30\n",
       "Parque Avellaneda       24\n",
       "Velez Sarsfield         22\n",
       "Monte Castro            16\n",
       "Nueva Pompeya           11\n",
       "Versalles                8\n",
       "Villa Real               6\n",
       "Villa Lugano             5\n",
       "Villa Riachuelo          3\n",
       "Villa Soldati            2\n",
       "Name: count, dtype: int64"
      ]
     },
     "execution_count": 10,
     "metadata": {},
     "output_type": "execute_result"
    }
   ],
   "source": [
    "cantidad_x_barrio = df[\"neighbourhood\"].value_counts()\n",
    "cantidad_x_barrio"
   ]
  },
  {
   "cell_type": "code",
   "execution_count": 11,
   "id": "e6526070",
   "metadata": {},
   "outputs": [
    {
     "data": {
      "text/plain": [
       "67518.0"
      ]
     },
     "execution_count": 11,
     "metadata": {},
     "output_type": "execute_result"
    }
   ],
   "source": [
    "df.iloc[0][\"price\"]\n"
   ]
  },
  {
   "cell_type": "code",
   "execution_count": 12,
   "id": "3c6896d5",
   "metadata": {},
   "outputs": [
    {
     "data": {
      "text/plain": [
       "104.66666666666667"
      ]
     },
     "execution_count": 12,
     "metadata": {},
     "output_type": "execute_result"
    }
   ],
   "source": [
    "314/3"
   ]
  },
  {
   "cell_type": "code",
   "execution_count": 13,
   "id": "c3478e8c",
   "metadata": {},
   "outputs": [
    {
     "data": {
      "text/plain": [
       "67518.0"
      ]
     },
     "execution_count": 13,
     "metadata": {},
     "output_type": "execute_result"
    }
   ],
   "source": [
    "df.iloc[0][\"price\"]\n",
    "# 67.518 $AR  .. 105 usd\n",
    "\n",
    "# 28639682 -- 400/3"
   ]
  },
  {
   "cell_type": "code",
   "execution_count": 14,
   "id": "bc7ae4c7",
   "metadata": {},
   "outputs": [
    {
     "data": {
      "text/plain": [
       "105022.0"
      ]
     },
     "execution_count": 14,
     "metadata": {},
     "output_type": "execute_result"
    }
   ],
   "source": [
    "df.query('id == 28639682').iloc[0][\"price\"]"
   ]
  },
  {
   "cell_type": "code",
   "execution_count": 15,
   "id": "a57c27a1",
   "metadata": {},
   "outputs": [
    {
     "data": {
      "text/plain": [
       "789.6390977443609"
      ]
     },
     "execution_count": 15,
     "metadata": {},
     "output_type": "execute_result"
    }
   ],
   "source": [
    "105022 / 133 "
   ]
  },
  {
   "cell_type": "code",
   "execution_count": 16,
   "id": "d58f29a6",
   "metadata": {},
   "outputs": [
    {
     "data": {
      "text/plain": [
       "'https://www.airbnb.com/rooms/11508'"
      ]
     },
     "execution_count": 16,
     "metadata": {},
     "output_type": "execute_result"
    }
   ],
   "source": [
    "# accediendo al 1er \n",
    "# df.iloc[0][\"id\"]\n",
    "# df.iloc[0].id\n",
    "\n",
    "\"https://www.airbnb.com/rooms/\" + str(df.iloc[0][\"id\"])"
   ]
  },
  {
   "cell_type": "code",
   "execution_count": 17,
   "id": "f390632d",
   "metadata": {},
   "outputs": [
    {
     "data": {
      "text/plain": [
       "(35172, 16)"
      ]
     },
     "execution_count": 17,
     "metadata": {},
     "output_type": "execute_result"
    }
   ],
   "source": [
    "df.shape"
   ]
  },
  {
   "cell_type": "code",
   "execution_count": 18,
   "id": "ca838fe0",
   "metadata": {},
   "outputs": [],
   "source": [
    "import duckdb"
   ]
  },
  {
   "cell_type": "code",
   "execution_count": 19,
   "id": "80ccad15",
   "metadata": {},
   "outputs": [
    {
     "data": {
      "text/plain": [
       "<duckdb.duckdb.DuckDBPyConnection at 0x23394273870>"
      ]
     },
     "execution_count": 19,
     "metadata": {},
     "output_type": "execute_result"
    }
   ],
   "source": [
    "duckdb.execute(\"\"\"\n",
    "               create table listings \n",
    "               as select * from \n",
    "               read_csv_auto('https://data.insideairbnb.com/argentina/ciudad-aut%C3%B3noma-de-buenos-aires/buenos-aires/2025-01-29/visualisations/listings.csv')\n",
    "               \"\"\")"
   ]
  },
  {
   "cell_type": "code",
   "execution_count": 20,
   "id": "088aa6b2",
   "metadata": {},
   "outputs": [
    {
     "data": {
      "text/plain": [
       "35172"
      ]
     },
     "execution_count": 20,
     "metadata": {},
     "output_type": "execute_result"
    }
   ],
   "source": [
    "count = duckdb.sql(\"SELECT count(*) as count FROM listings\").df()\n",
    "count[\"count\"][0]\n",
    "# Verificamos que la tabla se haya creado correctamente"
   ]
  },
  {
   "cell_type": "code",
   "execution_count": 21,
   "id": "c64b11ee",
   "metadata": {},
   "outputs": [],
   "source": [
    "import altair as alt"
   ]
  },
  {
   "cell_type": "code",
   "execution_count": 22,
   "id": "3a612d00",
   "metadata": {},
   "outputs": [],
   "source": [
    "source = duckdb.sql(\"\"\"select room_type, count(*) as count\n",
    "           from listings \n",
    "           group by 1 \n",
    "           order by 2 desc;\"\"\").df()"
   ]
  },
  {
   "cell_type": "code",
   "execution_count": 23,
   "id": "aa0c3ede",
   "metadata": {},
   "outputs": [
    {
     "data": {
      "text/html": [
       "\n",
       "<style>\n",
       "  #altair-viz-5ef14893318247e08c78348e5391aceb.vega-embed {\n",
       "    width: 100%;\n",
       "    display: flex;\n",
       "  }\n",
       "\n",
       "  #altair-viz-5ef14893318247e08c78348e5391aceb.vega-embed details,\n",
       "  #altair-viz-5ef14893318247e08c78348e5391aceb.vega-embed details summary {\n",
       "    position: relative;\n",
       "  }\n",
       "</style>\n",
       "<div id=\"altair-viz-5ef14893318247e08c78348e5391aceb\"></div>\n",
       "<script type=\"text/javascript\">\n",
       "  var VEGA_DEBUG = (typeof VEGA_DEBUG == \"undefined\") ? {} : VEGA_DEBUG;\n",
       "  (function(spec, embedOpt){\n",
       "    let outputDiv = document.currentScript.previousElementSibling;\n",
       "    if (outputDiv.id !== \"altair-viz-5ef14893318247e08c78348e5391aceb\") {\n",
       "      outputDiv = document.getElementById(\"altair-viz-5ef14893318247e08c78348e5391aceb\");\n",
       "    }\n",
       "    const paths = {\n",
       "      \"vega\": \"https://cdn.jsdelivr.net/npm/vega@5?noext\",\n",
       "      \"vega-lib\": \"https://cdn.jsdelivr.net/npm/vega-lib?noext\",\n",
       "      \"vega-lite\": \"https://cdn.jsdelivr.net/npm/vega-lite@5.20.1?noext\",\n",
       "      \"vega-embed\": \"https://cdn.jsdelivr.net/npm/vega-embed@6?noext\",\n",
       "    };\n",
       "\n",
       "    function maybeLoadScript(lib, version) {\n",
       "      var key = `${lib.replace(\"-\", \"\")}_version`;\n",
       "      return (VEGA_DEBUG[key] == version) ?\n",
       "        Promise.resolve(paths[lib]) :\n",
       "        new Promise(function(resolve, reject) {\n",
       "          var s = document.createElement('script');\n",
       "          document.getElementsByTagName(\"head\")[0].appendChild(s);\n",
       "          s.async = true;\n",
       "          s.onload = () => {\n",
       "            VEGA_DEBUG[key] = version;\n",
       "            return resolve(paths[lib]);\n",
       "          };\n",
       "          s.onerror = () => reject(`Error loading script: ${paths[lib]}`);\n",
       "          s.src = paths[lib];\n",
       "        });\n",
       "    }\n",
       "\n",
       "    function showError(err) {\n",
       "      outputDiv.innerHTML = `<div class=\"error\" style=\"color:red;\">${err}</div>`;\n",
       "      throw err;\n",
       "    }\n",
       "\n",
       "    function displayChart(vegaEmbed) {\n",
       "      vegaEmbed(outputDiv, spec, embedOpt)\n",
       "        .catch(err => showError(`Javascript Error: ${err.message}<br>This usually means there's a typo in your chart specification. See the javascript console for the full traceback.`));\n",
       "    }\n",
       "\n",
       "    if(typeof define === \"function\" && define.amd) {\n",
       "      requirejs.config({paths});\n",
       "      require([\"vega-embed\"], displayChart, err => showError(`Error loading script: ${err.message}`));\n",
       "    } else {\n",
       "      maybeLoadScript(\"vega\", \"5\")\n",
       "        .then(() => maybeLoadScript(\"vega-lite\", \"5.20.1\"))\n",
       "        .then(() => maybeLoadScript(\"vega-embed\", \"6\"))\n",
       "        .catch(showError)\n",
       "        .then(() => displayChart(vegaEmbed));\n",
       "    }\n",
       "  })({\"config\": {\"view\": {\"continuousWidth\": 300, \"continuousHeight\": 300}}, \"data\": {\"name\": \"data-121d360a7c440853782228a180c34681\"}, \"mark\": {\"type\": \"bar\"}, \"encoding\": {\"tooltip\": [{\"field\": \"room_type\", \"type\": \"nominal\"}, {\"field\": \"count\", \"type\": \"quantitative\"}], \"x\": {\"field\": \"count\", \"type\": \"quantitative\"}, \"y\": {\"field\": \"room_type\", \"sort\": \"-x\", \"type\": \"nominal\"}}, \"$schema\": \"https://vega.github.io/schema/vega-lite/v5.20.1.json\", \"datasets\": {\"data-121d360a7c440853782228a180c34681\": [{\"room_type\": \"Entire home/apt\", \"count\": 32083}, {\"room_type\": \"Private room\", \"count\": 2910}, {\"room_type\": \"Shared room\", \"count\": 118}, {\"room_type\": \"Hotel room\", \"count\": 61}]}}, {\"mode\": \"vega-lite\"});\n",
       "</script>"
      ],
      "text/plain": [
       "alt.Chart(...)"
      ]
     },
     "execution_count": 23,
     "metadata": {},
     "output_type": "execute_result"
    }
   ],
   "source": [
    "alt.Chart(source).mark_bar().encode(\n",
    "    x='count:Q',\n",
    "    # y='room_type:N',\n",
    "    # y=alt.Y('room_type:N').sort('-x')\n",
    "    y=alt.Y('room_type:N', sort='-x'),\n",
    "    tooltip=['room_type', 'count']\n",
    ")"
   ]
  },
  {
   "cell_type": "code",
   "execution_count": null,
   "id": "9f905739",
   "metadata": {},
   "outputs": [
    {
     "data": {
      "text/plain": [
       "<Axes: xlabel='count', ylabel='room_type'>"
      ]
     },
     "execution_count": 29,
     "metadata": {},
     "output_type": "execute_result"
    },
    {
     "data": {
      "image/png": "[encoded data removed]",
      "text/plain": [
       "<Figure size 640x480 with 1 Axes>"
      ]
     },
     "metadata": {},
     "output_type": "display_data"
    }
   ],
   "source": [
    "import seaborn as sns\n",
    "sns.barplot(source, y=\"room_type\", x=\"count\")\n"
   ]
  },
  {
   "cell_type": "code",
   "execution_count": null,
   "id": "a83d4a79",
   "metadata": {},
   "outputs": [
    {
     "data": {
      "image/png": "[encoded data removed]",
      "text/plain": [
       "<Figure size 400x200 with 1 Axes>"
      ]
     },
     "metadata": {},
     "output_type": "display_data"
    }
   ],
   "source": [
    "import seaborn as sns\n",
    "import matplotlib.pyplot as plt\n",
    "\n",
    "plt.figure(figsize=(4, 2))\n",
    "sns.barplot(data=source, y=\"room_type\", x=\"count\")\n",
    "\n",
    "sns.despine()  # Opcional: para eliminar el frame\n",
    "plt.show()"
   ]
  },
  {
   "cell_type": "code",
   "execution_count": null,
   "id": "d03379cd",
   "metadata": {},
   "outputs": [],
   "source": []
  }
 ],
 "metadata": {
  "kernelspec": {
   "display_name": "Python 3",
   "language": "python",
   "name": "python3"
  },
  "language_info": {
   "codemirror_mode": {
    "name": "ipython",
    "version": 3
   },
   "file_extension": ".py",
   "mimetype": "text/x-python",
   "name": "python",
   "nbconvert_exporter": "python",
   "pygments_lexer": "ipython3",
   "version": "3.11.9"
  }
 },
 "nbformat": 4,
 "nbformat_minor": 5
}
